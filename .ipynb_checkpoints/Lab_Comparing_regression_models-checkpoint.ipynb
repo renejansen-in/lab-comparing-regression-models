{
 "cells": [
  {
   "cell_type": "markdown",
   "id": "1aa35606",
   "metadata": {},
   "source": [
    "# Lab | Comparing regression models"
   ]
  },
  {
   "cell_type": "code",
   "execution_count": null,
   "id": "64851e3b",
   "metadata": {},
   "outputs": [],
   "source": [
    "# I cannot finish this one, because the previous one has an error which I cannot solve\n",
    "# Either I get some help or I skip it, since I hate the lab with all the repetitions and dependencies\n",
    "# it keeps me up unnecessarily to be able to finish the other labs."
   ]
  }
 ],
 "metadata": {
  "kernelspec": {
   "display_name": "Python 3",
   "language": "python",
   "name": "python3"
  },
  "language_info": {
   "codemirror_mode": {
    "name": "ipython",
    "version": 3
   },
   "file_extension": ".py",
   "mimetype": "text/x-python",
   "name": "python",
   "nbconvert_exporter": "python",
   "pygments_lexer": "ipython3",
   "version": "3.8.8"
  }
 },
 "nbformat": 4,
 "nbformat_minor": 5
}
